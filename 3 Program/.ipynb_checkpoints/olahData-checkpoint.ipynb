{
 "cells": [
  {
   "cell_type": "markdown",
   "id": "4b8f483f",
   "metadata": {},
   "source": [
    "# Olah Data T-Test SOAPSD vs non SOAPSD\n",
    "\n",
    "## olahData.ipynb\n",
    "\n",
    "Script ini digunakan untuk melakukan pengolahan data untuk:\n",
    "1. Biaya sebelum dan sesudah SOAPSD\n",
    "2. Waktu proses sebelum dan sesudah SOAPSD\n",
    "\n",
    "Yang akan dilakukan untuk analisis ini adalah:\n",
    "1. Load data simulasi\n",
    "2. Operasi Statistik Deskriptif\n",
    "3. Uji normalitas data\n",
    "4. Uji homogenitas data\n",
    "5. Uji T-test\n",
    "\n",
    "Adapun hipotesis dari penelitian ini sebagai berikut:\n",
    "* H0 = Tidak ada perbedaan signifikan pada biaya dan waktu dari 2 pelakukan tanpa optimasi SOAPSD dan dengan optimasi SOAPSD\n",
    "* H1 = Terdapat perbedaan signifikan pada biaya dan waktu dari 2 perlakukan tanpa optimasi SOAPSD dan dengan optimasi SOAPSD"
   ]
  },
  {
   "cell_type": "code",
   "execution_count": 1,
   "id": "36458fe0",
   "metadata": {
    "scrolled": true
   },
   "outputs": [],
   "source": [
    "#olahData.ipnyb\n",
    "# Library used\n",
    "\n",
    "import pandas as pd\n",
    "import numpy as np\n",
    "import scipy as sp\n",
    "import pingouin as pg\n",
    "import seaborn as sns\n",
    "import matplotlib.pyplot as plt"
   ]
  },
  {
   "cell_type": "markdown",
   "id": "f223f9fb",
   "metadata": {},
   "source": [
    "# 1. Load Data Simulasi"
   ]
  },
  {
   "cell_type": "code",
   "execution_count": 2,
   "id": "196b2134",
   "metadata": {},
   "outputs": [
    {
     "data": {
      "text/html": [
       "<div>\n",
       "<style scoped>\n",
       "    .dataframe tbody tr th:only-of-type {\n",
       "        vertical-align: middle;\n",
       "    }\n",
       "\n",
       "    .dataframe tbody tr th {\n",
       "        vertical-align: top;\n",
       "    }\n",
       "\n",
       "    .dataframe thead th {\n",
       "        text-align: right;\n",
       "    }\n",
       "</style>\n",
       "<table border=\"1\" class=\"dataframe\">\n",
       "  <thead>\n",
       "    <tr style=\"text-align: right;\">\n",
       "      <th></th>\n",
       "      <th>Kondisi</th>\n",
       "      <th>Waktu</th>\n",
       "      <th>Biaya</th>\n",
       "    </tr>\n",
       "  </thead>\n",
       "  <tbody>\n",
       "    <tr>\n",
       "      <th>0</th>\n",
       "      <td>As Is</td>\n",
       "      <td>2301.6</td>\n",
       "      <td>38125500</td>\n",
       "    </tr>\n",
       "    <tr>\n",
       "      <th>1</th>\n",
       "      <td>As Is</td>\n",
       "      <td>1108.8</td>\n",
       "      <td>25890000</td>\n",
       "    </tr>\n",
       "    <tr>\n",
       "      <th>2</th>\n",
       "      <td>As Is</td>\n",
       "      <td>1814.4</td>\n",
       "      <td>32269500</td>\n",
       "    </tr>\n",
       "    <tr>\n",
       "      <th>3</th>\n",
       "      <td>As Is</td>\n",
       "      <td>2419.2</td>\n",
       "      <td>40690500</td>\n",
       "    </tr>\n",
       "    <tr>\n",
       "      <th>4</th>\n",
       "      <td>As Is</td>\n",
       "      <td>2032.8</td>\n",
       "      <td>43308000</td>\n",
       "    </tr>\n",
       "    <tr>\n",
       "      <th>...</th>\n",
       "      <td>...</td>\n",
       "      <td>...</td>\n",
       "      <td>...</td>\n",
       "    </tr>\n",
       "    <tr>\n",
       "      <th>75</th>\n",
       "      <td>To Be</td>\n",
       "      <td>991.2</td>\n",
       "      <td>18942000</td>\n",
       "    </tr>\n",
       "    <tr>\n",
       "      <th>76</th>\n",
       "      <td>To Be</td>\n",
       "      <td>352.8</td>\n",
       "      <td>12627000</td>\n",
       "    </tr>\n",
       "    <tr>\n",
       "      <th>77</th>\n",
       "      <td>To Be</td>\n",
       "      <td>1142.4</td>\n",
       "      <td>31014000</td>\n",
       "    </tr>\n",
       "    <tr>\n",
       "      <th>78</th>\n",
       "      <td>To Be</td>\n",
       "      <td>840.0</td>\n",
       "      <td>19642500</td>\n",
       "    </tr>\n",
       "    <tr>\n",
       "      <th>79</th>\n",
       "      <td>To Be</td>\n",
       "      <td>722.4</td>\n",
       "      <td>14023500</td>\n",
       "    </tr>\n",
       "  </tbody>\n",
       "</table>\n",
       "<p>80 rows × 3 columns</p>\n",
       "</div>"
      ],
      "text/plain": [
       "   Kondisi   Waktu     Biaya\n",
       "0    As Is  2301.6  38125500\n",
       "1    As Is  1108.8  25890000\n",
       "2    As Is  1814.4  32269500\n",
       "3    As Is  2419.2  40690500\n",
       "4    As Is  2032.8  43308000\n",
       "..     ...     ...       ...\n",
       "75   To Be   991.2  18942000\n",
       "76   To Be   352.8  12627000\n",
       "77   To Be  1142.4  31014000\n",
       "78   To Be   840.0  19642500\n",
       "79   To Be   722.4  14023500\n",
       "\n",
       "[80 rows x 3 columns]"
      ]
     },
     "execution_count": 2,
     "metadata": {},
     "output_type": "execute_result"
    }
   ],
   "source": [
    "# Load Data\n",
    "\n",
    "data = pd.read_csv('DataSimulasiSoap.csv')\n",
    "data"
   ]
  },
  {
   "cell_type": "markdown",
   "id": "75df3e29",
   "metadata": {},
   "source": [
    "# 2. Operasi Statistik Deskriptif"
   ]
  },
  {
   "cell_type": "code",
   "execution_count": 3,
   "id": "b8de0005",
   "metadata": {},
   "outputs": [
    {
     "data": {
      "text/html": [
       "<div>\n",
       "<style scoped>\n",
       "    .dataframe tbody tr th:only-of-type {\n",
       "        vertical-align: middle;\n",
       "    }\n",
       "\n",
       "    .dataframe tbody tr th {\n",
       "        vertical-align: top;\n",
       "    }\n",
       "\n",
       "    .dataframe thead th {\n",
       "        text-align: right;\n",
       "    }\n",
       "</style>\n",
       "<table border=\"1\" class=\"dataframe\">\n",
       "  <thead>\n",
       "    <tr style=\"text-align: right;\">\n",
       "      <th></th>\n",
       "      <th>count</th>\n",
       "      <th>mean</th>\n",
       "      <th>std</th>\n",
       "      <th>min</th>\n",
       "      <th>25%</th>\n",
       "      <th>50%</th>\n",
       "      <th>75%</th>\n",
       "      <th>max</th>\n",
       "    </tr>\n",
       "    <tr>\n",
       "      <th>Kondisi</th>\n",
       "      <th></th>\n",
       "      <th></th>\n",
       "      <th></th>\n",
       "      <th></th>\n",
       "      <th></th>\n",
       "      <th></th>\n",
       "      <th></th>\n",
       "      <th></th>\n",
       "    </tr>\n",
       "  </thead>\n",
       "  <tbody>\n",
       "    <tr>\n",
       "      <th>As Is</th>\n",
       "      <td>40.0</td>\n",
       "      <td>1512.84</td>\n",
       "      <td>476.027112</td>\n",
       "      <td>621.6</td>\n",
       "      <td>1108.8</td>\n",
       "      <td>1436.4</td>\n",
       "      <td>1814.4</td>\n",
       "      <td>2469.6</td>\n",
       "    </tr>\n",
       "    <tr>\n",
       "      <th>To Be</th>\n",
       "      <td>40.0</td>\n",
       "      <td>815.64</td>\n",
       "      <td>227.725859</td>\n",
       "      <td>352.8</td>\n",
       "      <td>672.0</td>\n",
       "      <td>747.6</td>\n",
       "      <td>953.4</td>\n",
       "      <td>1411.2</td>\n",
       "    </tr>\n",
       "  </tbody>\n",
       "</table>\n",
       "</div>"
      ],
      "text/plain": [
       "         count     mean         std    min     25%     50%     75%     max\n",
       "Kondisi                                                                   \n",
       "As Is     40.0  1512.84  476.027112  621.6  1108.8  1436.4  1814.4  2469.6\n",
       "To Be     40.0   815.64  227.725859  352.8   672.0   747.6   953.4  1411.2"
      ]
     },
     "execution_count": 3,
     "metadata": {},
     "output_type": "execute_result"
    }
   ],
   "source": [
    "# Berdasarkan Waktu\n",
    "\n",
    "data.dtypes\n",
    "asIsWaktu = data.query('Kondisi == \"As Is\"')['Waktu']\n",
    "toBeWaktu = data.query('Kondisi == \"To Be\"')['Waktu']\n",
    "data.groupby('Kondisi').Waktu.describe()"
   ]
  },
  {
   "cell_type": "code",
   "execution_count": 4,
   "id": "a08c27b9",
   "metadata": {},
   "outputs": [
    {
     "data": {
      "text/html": [
       "<div>\n",
       "<style scoped>\n",
       "    .dataframe tbody tr th:only-of-type {\n",
       "        vertical-align: middle;\n",
       "    }\n",
       "\n",
       "    .dataframe tbody tr th {\n",
       "        vertical-align: top;\n",
       "    }\n",
       "\n",
       "    .dataframe thead th {\n",
       "        text-align: right;\n",
       "    }\n",
       "</style>\n",
       "<table border=\"1\" class=\"dataframe\">\n",
       "  <thead>\n",
       "    <tr style=\"text-align: right;\">\n",
       "      <th></th>\n",
       "      <th>count</th>\n",
       "      <th>mean</th>\n",
       "      <th>std</th>\n",
       "      <th>min</th>\n",
       "      <th>25%</th>\n",
       "      <th>50%</th>\n",
       "      <th>75%</th>\n",
       "      <th>max</th>\n",
       "    </tr>\n",
       "    <tr>\n",
       "      <th>Kondisi</th>\n",
       "      <th></th>\n",
       "      <th></th>\n",
       "      <th></th>\n",
       "      <th></th>\n",
       "      <th></th>\n",
       "      <th></th>\n",
       "      <th></th>\n",
       "      <th></th>\n",
       "    </tr>\n",
       "  </thead>\n",
       "  <tbody>\n",
       "    <tr>\n",
       "      <th>As Is</th>\n",
       "      <td>40.0</td>\n",
       "      <td>31954350.0</td>\n",
       "      <td>6.602127e+06</td>\n",
       "      <td>20901000.0</td>\n",
       "      <td>27227625.0</td>\n",
       "      <td>31993500.0</td>\n",
       "      <td>35999250.0</td>\n",
       "      <td>48616500.0</td>\n",
       "    </tr>\n",
       "    <tr>\n",
       "      <th>To Be</th>\n",
       "      <td>40.0</td>\n",
       "      <td>18622312.5</td>\n",
       "      <td>3.855809e+06</td>\n",
       "      <td>11313000.0</td>\n",
       "      <td>16045875.0</td>\n",
       "      <td>18092250.0</td>\n",
       "      <td>19644375.0</td>\n",
       "      <td>31014000.0</td>\n",
       "    </tr>\n",
       "  </tbody>\n",
       "</table>\n",
       "</div>"
      ],
      "text/plain": [
       "         count        mean           std         min         25%         50%  \\\n",
       "Kondisi                                                                        \n",
       "As Is     40.0  31954350.0  6.602127e+06  20901000.0  27227625.0  31993500.0   \n",
       "To Be     40.0  18622312.5  3.855809e+06  11313000.0  16045875.0  18092250.0   \n",
       "\n",
       "                75%         max  \n",
       "Kondisi                          \n",
       "As Is    35999250.0  48616500.0  \n",
       "To Be    19644375.0  31014000.0  "
      ]
     },
     "execution_count": 4,
     "metadata": {},
     "output_type": "execute_result"
    }
   ],
   "source": [
    "# Berdasarkan Biaya\n",
    "\n",
    "data.dtypes\n",
    "asIsBiaya = data.query('Kondisi == \"As Is\"')['Biaya']\n",
    "toBeBiaya = data.query('Kondisi == \"To Be\"')['Biaya']\n",
    "data.groupby('Kondisi').Biaya.describe()"
   ]
  },
  {
   "cell_type": "markdown",
   "id": "0b997f28",
   "metadata": {},
   "source": [
    "# 3. Uji Normalitas Data"
   ]
  },
  {
   "cell_type": "code",
   "execution_count": 5,
   "id": "6bbedab5",
   "metadata": {},
   "outputs": [
    {
     "name": "stdout",
     "output_type": "stream",
     "text": [
      "As Is (Waktu) P-Value :  0.1494767814874649\n",
      "To Be (Waktu) P-Value :  0.4448796510696411\n"
     ]
    }
   ],
   "source": [
    "# Berdasarkan Waktu\n",
    "\n",
    "print('As Is (Waktu) P-Value : ',sp.stats.shapiro(asIsWaktu).pvalue)\n",
    "print('To Be (Waktu) P-Value : ',sp.stats.shapiro(toBeWaktu).pvalue)"
   ]
  },
  {
   "cell_type": "code",
   "execution_count": 6,
   "id": "a738c3ad",
   "metadata": {},
   "outputs": [
    {
     "data": {
      "image/png": "[encoded data removed]",
      "text/plain": [
       "<Figure size 432x288 with 2 Axes>"
      ]
     },
     "metadata": {
      "needs_background": "light"
     },
     "output_type": "display_data"
    }
   ],
   "source": [
    "# Plot histogram normalitas Waktu\n",
    "data.hist(by='Kondisi',column='Waktu')\n",
    "plt.show()"
   ]
  },
  {
   "cell_type": "code",
   "execution_count": 7,
   "id": "3c6c8445",
   "metadata": {},
   "outputs": [
    {
     "name": "stdout",
     "output_type": "stream",
     "text": [
      "As Is (Biaya) P-Value :  0.7539734244346619\n",
      "To Be (Biaya) P-Value :  0.021632680669426918\n"
     ]
    }
   ],
   "source": [
    "# Berdasarkan Biaya\n",
    "\n",
    "print('As Is (Biaya) P-Value : ',sp.stats.shapiro(asIsBiaya).pvalue)\n",
    "print('To Be (Biaya) P-Value : ',sp.stats.shapiro(toBeBiaya).pvalue)"
   ]
  },
  {
   "cell_type": "code",
   "execution_count": 7,
   "id": "fe041340",
   "metadata": {
    "scrolled": false
   },
   "outputs": [
    {
     "data": {
      "image/png": "[encoded data removed]",
      "text/plain": [
       "<Figure size 432x288 with 2 Axes>"
      ]
     },
     "metadata": {
      "needs_background": "light"
     },
     "output_type": "display_data"
    }
   ],
   "source": [
    "# Plot histogram normalitas Biaya\n",
    "data.hist(by='Kondisi',column='Biaya')\n",
    "plt.show()"
   ]
  },
  {
   "cell_type": "markdown",
   "id": "00b00d09",
   "metadata": {},
   "source": [
    "# Box Plot Data\n",
    "## Berdasarkan Waktu"
   ]
  },
  {
   "cell_type": "code",
   "execution_count": 8,
   "id": "75cda5b1",
   "metadata": {},
   "outputs": [
    {
     "data": {
      "text/plain": [
       "<AxesSubplot:xlabel='Kondisi', ylabel='Waktu'>"
      ]
     },
     "execution_count": 8,
     "metadata": {},
     "output_type": "execute_result"
    },
    {
     "data": {
      "image/png": "[encoded data removed]",
      "text/plain": [
       "<Figure size 432x288 with 1 Axes>"
      ]
     },
     "metadata": {
      "needs_background": "light"
     },
     "output_type": "display_data"
    }
   ],
   "source": [
    "# Plot data menggunakan box plot\n",
    "sns.boxplot(x='Kondisi',y='Waktu', data=data)\n"
   ]
  },
  {
   "cell_type": "markdown",
   "id": "15894a19",
   "metadata": {},
   "source": [
    "## Berdasarkan Biaya"
   ]
  },
  {
   "cell_type": "code",
   "execution_count": 9,
   "id": "6c769aec",
   "metadata": {},
   "outputs": [
    {
     "data": {
      "text/plain": [
       "<AxesSubplot:xlabel='Kondisi', ylabel='Biaya'>"
      ]
     },
     "execution_count": 9,
     "metadata": {},
     "output_type": "execute_result"
    },
    {
     "data": {
      "image/png": "[encoded data removed]",
      "text/plain": [
       "<Figure size 432x288 with 1 Axes>"
      ]
     },
     "metadata": {
      "needs_background": "light"
     },
     "output_type": "display_data"
    }
   ],
   "source": [
    "# Plot data menggunakan box plot\n",
    "sns.boxplot(x='Kondisi',y='Biaya', data=data)\n"
   ]
  },
  {
   "cell_type": "markdown",
   "id": "d08c4dc7",
   "metadata": {},
   "source": [
    "# 4. Uji Homogenitas Data\n",
    "* Uji homogenitas digunakan untuk memastikan nilai dari **Variance** dari dua kelompok bernilai sama.\n",
    "* Hal ini dapat di tunjukan dari P-Value, apabila **P-Value > 0.05** maka Variance dari kedua kelompok dianggap sama.\n",
    "* Ketika variance dari dua kelompok berbeda maka menggunakan **welch t-test**\n",
    "* Ketika variance dari dua kelompok sama maka menggunakan **student t-test**"
   ]
  },
  {
   "cell_type": "code",
   "execution_count": 10,
   "id": "2b1708bf",
   "metadata": {},
   "outputs": [
    {
     "name": "stdout",
     "output_type": "stream",
     "text": [
      "P-Value Berdasarkan Waktu :  2.6081859267780552e-05\n"
     ]
    }
   ],
   "source": [
    "# Berdasarkan Waktu\n",
    "print('P-Value Berdasarkan Waktu : ',sp.stats.levene(asIsWaktu,toBeWaktu).pvalue)"
   ]
  },
  {
   "cell_type": "code",
   "execution_count": 11,
   "id": "63513136",
   "metadata": {},
   "outputs": [
    {
     "name": "stdout",
     "output_type": "stream",
     "text": [
      "P-Value Berdasarkan Waktu :  0.0014852251086637333\n"
     ]
    }
   ],
   "source": [
    "# Berdasarkan Waktu\n",
    "print('P-Value Berdasarkan Waktu : ',sp.stats.levene(asIsBiaya,toBeBiaya).pvalue)"
   ]
  },
  {
   "cell_type": "markdown",
   "id": "36e04a94",
   "metadata": {},
   "source": [
    "* Seluruh P-Value < 0.05 sehingga variance dianggap berbeda dan menggunakan welch t-test"
   ]
  },
  {
   "cell_type": "markdown",
   "id": "4f235d68",
   "metadata": {},
   "source": [
    "# 5. Uji Welch T-test\n",
    "\n",
    "## Berdasarkan Waktu"
   ]
  },
  {
   "cell_type": "code",
   "execution_count": 12,
   "id": "bba11b6b",
   "metadata": {
    "scrolled": true
   },
   "outputs": [
    {
     "name": "stdout",
     "output_type": "stream",
     "text": [
      "Statistics :  8.35613176153935\n",
      "P Value :  1.918789454529778e-12\n"
     ]
    }
   ],
   "source": [
    "res = sp.stats.ttest_ind(asIsWaktu, toBeWaktu,equal_var=True)\n",
    "print(\"Statistics : \",res.statistic)\n",
    "print(\"P Value : \",res.pvalue)"
   ]
  },
  {
   "cell_type": "markdown",
   "id": "3b778d92",
   "metadata": {},
   "source": [
    "## Berdasarkan Biaya"
   ]
  },
  {
   "cell_type": "code",
   "execution_count": 13,
   "id": "b52262f2",
   "metadata": {
    "scrolled": true
   },
   "outputs": [
    {
     "name": "stdout",
     "output_type": "stream",
     "text": [
      "Statistics :  11.028448453196217\n",
      "P Value :  1.3862600031721712e-17\n"
     ]
    }
   ],
   "source": [
    "res = sp.stats.ttest_ind(asIsBiaya, toBeBiaya,equal_var=True)\n",
    "print(\"Statistics : \",res.statistic)\n",
    "print(\"P Value : \",res.pvalue)"
   ]
  },
  {
   "cell_type": "markdown",
   "id": "29a4ca54",
   "metadata": {},
   "source": [
    "* Jika dilihat berdasarkan waktu dan biaya, P-Value bernilai < 0.05 yang menandakan terdapat perbedaan signifikan dari sisi waktu dan biaya, ketika mengimplementasikan SOAPSD pada SIMP dan ketika tidak menggunakan SOAPSD pada SIMP.\n",
    "* Dengan P-Value < 0.05 maka **H0 Ditolak** dan **H1 Diterima** yang menyatakan : __\"Terdapat perbedaan signifikan pada biaya dan waktu dari 2 perlakukan tanpa optimasi SOAPSD dan dengan optimasi SOAPSD\"__"
   ]
  }
 ],
 "metadata": {
  "kernelspec": {
   "display_name": "Python 3 (ipykernel)",
   "language": "python",
   "name": "python3"
  },
  "language_info": {
   "codemirror_mode": {
    "name": "ipython",
    "version": 3
   },
   "file_extension": ".py",
   "mimetype": "text/x-python",
   "name": "python",
   "nbconvert_exporter": "python",
   "pygments_lexer": "ipython3",
   "version": "3.9.7"
  }
 },
 "nbformat": 4,
 "nbformat_minor": 5
}
